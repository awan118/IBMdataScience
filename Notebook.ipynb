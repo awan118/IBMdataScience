{
 "cells": [
  {
   "cell_type": "markdown",
   "id": "1f8b6bc4-733c-4ae1-92f9-6fb1e00f1aa0",
   "metadata": {},
   "source": [
    "Data Science Tools and Ecosystem"
   ]
  },
  {
   "cell_type": "markdown",
   "id": "82350b56-d6b8-47ef-88bd-34b0cf60c129",
   "metadata": {},
   "source": [
    "In this notebook,Tools for Data Science are summarized."
   ]
  },
  {
   "cell_type": "markdown",
   "id": "be3e92b7-d98a-4603-96af-443bcdd932ea",
   "metadata": {},
   "source": [
    "Objectives:\n",
    "\n",
    "List popular languages that Data Scientists use.\n",
    "List commonly used libraries used by Data Scientists.\n",
    "Comment on Data Science tools."
   ]
  },
  {
   "cell_type": "markdown",
   "id": "1ba27c9c-afa9-4b6e-b9e6-6b7acf46af77",
   "metadata": {},
   "source": [
    "Some of the popular languages that Data Scientists use are:\n",
    "\n",
    "Python\n",
    "R\n",
    "SQL\n",
    "Java\n",
    "Julia\n",
    "Scala\n",
    "C/C++\n",
    "JavaScript"
   ]
  },
  {
   "cell_type": "markdown",
   "id": "dcd35033-d7e2-428f-bda1-47f9906b3005",
   "metadata": {},
   "source": [
    "Some of the commonly used libraries used by Data Scientists include:\n",
    "\n",
    "TensorFlow.\n",
    "NumPy.\n",
    "SciPy.\n",
    "Pandas.\n",
    "Matplotlib.\n",
    "Keras.\n",
    "SciKit-Learn.\n",
    "PyTorch.\n",
    "Scrapy.\n",
    "BeautifulSoup.\n",
    "LightGBM.\n",
    "ELI5.\n",
    "Theano.\n",
    "NuPIC.\n",
    "Ramp.\n",
    "Pipenv.\n",
    "Bob.\n",
    "PyBrain.\n",
    "Caffe2.\n",
    "Chainer."
   ]
  },
  {
   "cell_type": "markdown",
   "id": "1b69394c-069f-4a4f-aade-99586af79a78",
   "metadata": {},
   "source": [
    "Data Science Tools:\n",
    "\n",
    "Data Science Tools\n",
    "SAS. It is one of those data science tools which are specifically designed for statistical operation\n",
    "Apache Spark\n",
    "BigML"
   ]
  },
  {
   "cell_type": "code",
   "execution_count": 8,
   "id": "b7924085-fb88-4f57-be14-e5cc5fb044bf",
   "metadata": {
    "tags": []
   },
   "outputs": [
    {
     "data": {
      "text/plain": [
       "9"
      ]
     },
     "execution_count": 8,
     "metadata": {},
     "output_type": "execute_result"
    }
   ],
   "source": [
    "code = compile(\"5 + 4\", \"<string>\", \"eval\")\n",
    "eval(code)"
   ]
  },
  {
   "cell_type": "code",
   "execution_count": 7,
   "id": "4d15de26-e669-48fd-b44b-c6944a31ad9f",
   "metadata": {
    "tags": []
   },
   "outputs": [
    {
     "data": {
      "text/plain": [
       "24"
      ]
     },
     "execution_count": 7,
     "metadata": {},
     "output_type": "execute_result"
    }
   ],
   "source": [
    "code1 = compile(\"(5 + 7) * 2\", \"<string>\", \"eval\")\n",
    "eval(code1)"
   ]
  },
  {
   "cell_type": "code",
   "execution_count": 9,
   "id": "d4388dea-9a89-47cf-b8d3-ee10a3609cbd",
   "metadata": {
    "tags": []
   },
   "outputs": [
    {
     "data": {
      "text/plain": [
       "653"
      ]
     },
     "execution_count": 9,
     "metadata": {},
     "output_type": "execute_result"
    }
   ],
   "source": [
    "5+(4*6)*27"
   ]
  },
  {
   "cell_type": "code",
   "execution_count": 10,
   "id": "5fa5579a-2311-47c2-ba8a-4b94a9a28258",
   "metadata": {
    "tags": []
   },
   "outputs": [
    {
     "name": "stdout",
     "output_type": "stream",
     "text": [
      "0 days, 3.3333333333333335 hours, 0 mins. \n"
     ]
    }
   ],
   "source": [
    "days = 0\n",
    "hours = 0\n",
    "mins = 0\n",
    "\n",
    "time = 200\n",
    "#days = time / 1440\n",
    "leftover_minutes = time % 1440\n",
    "hours = leftover_minutes / 60\n",
    "#mins = time - (days*1440) - (hours*60)\n",
    "print(str(days) + \" days, \" + str(hours) + \" hours, \" + str(mins) +  \" mins. \")"
   ]
  },
  {
   "cell_type": "markdown",
   "id": "0040aacc-46ea-4cd0-b4eb-e0c89611dd5c",
   "metadata": {},
   "source": [
    "Objectives:\n",
    "\n",
    "List popular languages that Data Scientists use.\n",
    "List commonly used libraries used by Data Scientists.\n",
    "Comment on Data Science tools.\n",
    "to gain knowledge and insights from all kinds of data, structured or unstructured.\n",
    " analyzing data, creating aesthetic and interactive visualizations and creating powerful predictive models using machine learning algorithms"
   ]
  },
  {
   "cell_type": "markdown",
   "id": "ae5763c0-193a-424f-b3b0-4d39010dc53a",
   "metadata": {},
   "source": [
    "Author:\n",
    "SOHAM KANTI JANA"
   ]
  }
 ],
 "metadata": {
  "kernelspec": {
   "display_name": "Python",
   "language": "python",
   "name": "conda-env-python-py"
  },
  "language_info": {
   "codemirror_mode": {
    "name": "ipython",
    "version": 3
   },
   "file_extension": ".py",
   "mimetype": "text/x-python",
   "name": "python",
   "nbconvert_exporter": "python",
   "pygments_lexer": "ipython3",
   "version": "3.7.12"
  }
 },
 "nbformat": 4,
 "nbformat_minor": 5
}
